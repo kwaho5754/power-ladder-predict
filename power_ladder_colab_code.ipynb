
# ✅ 필요한 라이브러리 설치
!pip install --upgrade gspread gspread_dataframe oauth2client

# ✅ 인증 환경변수 설정 (업로드한 JSON 키 파일 이름에 맞게 설정)
import os
os.environ["GOOGLE_APPLICATION_CREDENTIALS"] = "/content/vertical-hook-454512-j7-923cfa34df58.json"
print("✅ 인증 키 설정 완료")

# ✅ gspread 인증 및 구글 시트 연결
import gspread
from google.auth import default

creds, _ = default()
gc = gspread.authorize(creds)
print("✅ 구글 시트 인증 완료")

# ✅ 시트 ID 및 워크시트 선택
sheet_id = "1SxvM-7xx9mIEdbVXhpG59PgtRLHRAbq0Nor1O90-o"  # 사용자의 시트 ID로 교체 가능
sheet = gc.open_by_key(sheet_id).worksheet("예측결과")   # 시트 탭 이름 확인

# ✅ 데이터 불러오기
data = sheet.get_all_values()
for row in data[:5]:
    print(row)
